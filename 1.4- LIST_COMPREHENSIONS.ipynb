{
 "cells": [
  {
   "cell_type": "markdown",
   "id": "90cc9057",
   "metadata": {},
   "source": [
    "# List Comprehensions\n",
    "### 1'den 10'a kadar olan sayıları bir liste içersine almak istersek önce ( range [ 10 ] ) diyerek bir range objesi oluştururuz ve for yardımıyla her bir elemana ulaşıp numbers listesi içersine append ederiz.\n",
    "### Bu listeyi \"List Comprehensions\" ile daha kolay bir şekilde yapabiliriz."
   ]
  },
  {
   "cell_type": "code",
   "execution_count": 1,
   "id": "25984357",
   "metadata": {},
   "outputs": [
    {
     "name": "stdout",
     "output_type": "stream",
     "text": [
      "1\n",
      "3\n",
      "5\n",
      "7\n",
      "9\n",
      "11\n",
      "13\n",
      "15\n",
      "17\n",
      "19\n"
     ]
    }
   ],
   "source": [
    "## range\n",
    "for x in range (1,20,2):\n",
    "    print(x)"
   ]
  },
  {
   "cell_type": "code",
   "execution_count": 4,
   "id": "a58518ab",
   "metadata": {},
   "outputs": [
    {
     "name": "stdout",
     "output_type": "stream",
     "text": [
      "index:0,letter:İ\n",
      "index:1,letter:r\n",
      "index:2,letter:e\n",
      "index:3,letter:m\n",
      "index:4,letter: \n",
      "index:5,letter:D\n",
      "index:6,letter:ü\n",
      "index:7,letter:z\n",
      "index:8,letter:g\n",
      "index:9,letter:ü\n",
      "index:10,letter:n\n"
     ]
    }
   ],
   "source": [
    "index = 0\n",
    "name = 'İrem Düzgün'\n",
    "for i in name:\n",
    "    print(f'index:{index},letter:{i}')\n",
    "    index += 1\n",
    "    \n",
    "#yerine;"
   ]
  },
  {
   "cell_type": "code",
   "execution_count": 6,
   "id": "7f13810c",
   "metadata": {},
   "outputs": [
    {
     "name": "stdout",
     "output_type": "stream",
     "text": [
      "0 İ\n",
      "1 r\n",
      "2 e\n",
      "3 m\n",
      "4  \n",
      "5 D\n",
      "6 ü\n",
      "7 z\n",
      "8 g\n",
      "9 ü\n",
      "10 n\n"
     ]
    }
   ],
   "source": [
    "## Enumarate ile index değişkeni olmadan index numarası verme:\n",
    "name = 'İrem Düzgün'\n",
    "for index , item in enumerate(name):\n",
    "    print(index,item)"
   ]
  },
  {
   "cell_type": "code",
   "execution_count": 12,
   "id": "71b97a79",
   "metadata": {},
   "outputs": [
    {
     "data": {
      "text/plain": [
       "[(1, 'i', 's'), (2, 'r', 'e'), (3, 'e', 'n'), (4, 'm', 'a')]"
      ]
     },
     "execution_count": 12,
     "metadata": {},
     "output_type": "execute_result"
    }
   ],
   "source": [
    "## Zip\n",
    "list1 = [1,2,3,4]\n",
    "list2 = ['i','r','e','m']\n",
    "list3 = ['s','e','n','a']\n",
    "list(zip(list1,list2,list3))"
   ]
  },
  {
   "cell_type": "code",
   "execution_count": 11,
   "id": "99fa5f25",
   "metadata": {},
   "outputs": [
    {
     "data": {
      "text/plain": [
       "[0, 1, 2, 3, 4, 5, 6, 7, 8, 9]"
      ]
     },
     "execution_count": 11,
     "metadata": {},
     "output_type": "execute_result"
    }
   ],
   "source": [
    "## List Comprehension\n",
    "numbers = [x for x in range(10)]\n",
    "numbers"
   ]
  },
  {
   "cell_type": "code",
   "execution_count": null,
   "id": "ef041680",
   "metadata": {},
   "outputs": [],
   "source": []
  }
 ],
 "metadata": {
  "kernelspec": {
   "display_name": "Python 3",
   "language": "python",
   "name": "python3"
  },
  "language_info": {
   "codemirror_mode": {
    "name": "ipython",
    "version": 3
   },
   "file_extension": ".py",
   "mimetype": "text/x-python",
   "name": "python",
   "nbconvert_exporter": "python",
   "pygments_lexer": "ipython3",
   "version": "3.8.8"
  }
 },
 "nbformat": 4,
 "nbformat_minor": 5
}
