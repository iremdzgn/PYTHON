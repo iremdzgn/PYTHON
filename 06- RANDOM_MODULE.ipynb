{
 "cells": [
  {
   "cell_type": "markdown",
   "id": "f03458f7",
   "metadata": {},
   "source": [
    "# Random Modülü\n",
    "##### Random modülü rastgele sayı üretmeyi sağlayan bir modüldür.Bu modülü içe aktarmak için öncellikle import etmeliyiz."
   ]
  },
  {
   "cell_type": "code",
   "execution_count": 1,
   "id": "e9b8d592",
   "metadata": {},
   "outputs": [],
   "source": [
    "import random"
   ]
  },
  {
   "cell_type": "markdown",
   "id": "4a89e6b2",
   "metadata": {},
   "source": [
    "### Random ()\n",
    "##### Random modülünü random() adlı fonksiyonu kullanarak 0.0 ile 1.0 arasında rastgele bir kayan noktalı sayı üretebiliriz."
   ]
  },
  {
   "cell_type": "code",
   "execution_count": 2,
   "id": "94ca67c0",
   "metadata": {},
   "outputs": [
    {
     "data": {
      "text/plain": [
       "0.9430907719803915"
      ]
     },
     "execution_count": 2,
     "metadata": {},
     "output_type": "execute_result"
    }
   ],
   "source": [
    "x = random.random()\n",
    "x"
   ]
  },
  {
   "cell_type": "markdown",
   "id": "af1bf85a",
   "metadata": {},
   "source": [
    "### Uniform ()\n",
    "##### Uniform() fonksiyonunda ise istediğimiz aralıkta rastgele bir kayan noktalı sayı üretebiliriz."
   ]
  },
  {
   "cell_type": "code",
   "execution_count": 3,
   "id": "5a7e600f",
   "metadata": {},
   "outputs": [
    {
     "data": {
      "text/plain": [
       "13.403021771289977"
      ]
     },
     "execution_count": 3,
     "metadata": {},
     "output_type": "execute_result"
    }
   ],
   "source": [
    "a = random.uniform(1,20)\n",
    "a"
   ]
  },
  {
   "cell_type": "markdown",
   "id": "260c49a9",
   "metadata": {},
   "source": [
    "### Randint()\n",
    "##### Random() ve Uniform() fonksiyonlarında kayan noktalı sayılar üretebiliyorduk. Randint() fonksiyonunda ise istediğimiz aralıkta tam sayılar üretebiliyoruz."
   ]
  },
  {
   "cell_type": "code",
   "execution_count": 4,
   "id": "23f81044",
   "metadata": {},
   "outputs": [
    {
     "data": {
      "text/plain": [
       "64"
      ]
     },
     "execution_count": 4,
     "metadata": {},
     "output_type": "execute_result"
    }
   ],
   "source": [
    "b = random.randint(1,100)\n",
    "b"
   ]
  },
  {
   "cell_type": "markdown",
   "id": "3fbf10a4",
   "metadata": {},
   "source": [
    "### Choice()\n",
    "##### Choice() fonksiyonunda ise dizi niteliği yaşıyan veri tiplerinden rastgele ögeler seçebiliriz."
   ]
  },
  {
   "cell_type": "code",
   "execution_count": 5,
   "id": "bf623b06",
   "metadata": {},
   "outputs": [
    {
     "data": {
      "text/plain": [
       "'cherry'"
      ]
     },
     "execution_count": 5,
     "metadata": {},
     "output_type": "execute_result"
    }
   ],
   "source": [
    "list = ['cherry','banana','grape','lemon','orange','strawberry']\n",
    "random.choice(list)"
   ]
  },
  {
   "cell_type": "code",
   "execution_count": 7,
   "id": "3797acc4",
   "metadata": {},
   "outputs": [
    {
     "data": {
      "text/plain": [
       "'g'"
      ]
     },
     "execution_count": 7,
     "metadata": {},
     "output_type": "execute_result"
    }
   ],
   "source": [
    "name = 'İrem Düzgün'\n",
    "random.choice(name)"
   ]
  },
  {
   "cell_type": "markdown",
   "id": "8116977d",
   "metadata": {},
   "source": [
    "### Shuffle()\n",
    "##### Shuffle() fonksiyonunu kullanarak dizi niteliği taşıyan veri tiplerindeki ögeleri karıştarabiliriz."
   ]
  },
  {
   "cell_type": "code",
   "execution_count": 18,
   "id": "7f1f104f",
   "metadata": {},
   "outputs": [
    {
     "data": {
      "text/plain": [
       "[5, 6, 3, 7, 4, 8, 10, 1, 2, 9]"
      ]
     },
     "execution_count": 18,
     "metadata": {},
     "output_type": "execute_result"
    }
   ],
   "source": [
    "myList = [1,2,3,4,5,6,7,8,9,10]\n",
    "random.shuffle(myList)\n",
    "myList"
   ]
  },
  {
   "cell_type": "markdown",
   "id": "ad6681b5",
   "metadata": {},
   "source": [
    "### Randrange()\n",
    "##### Randrange() fonksiyonu randint() fonksiyonu ile aynı işi yapar. Yani her iki fonksiyonda belli bir aralıkta rastgele tamsayılar üretir.ancak iki küçük fark bulunur."
   ]
  },
  {
   "cell_type": "code",
   "execution_count": 20,
   "id": "ba6e312c",
   "metadata": {},
   "outputs": [
    {
     "data": {
      "text/plain": [
       "8"
      ]
     },
     "execution_count": 20,
     "metadata": {},
     "output_type": "execute_result"
    }
   ],
   "source": [
    "## 1. Fark : Tek parametre kullanılabilir.\n",
    "random.randrange(10)"
   ]
  },
  {
   "cell_type": "code",
   "execution_count": 21,
   "id": "da5bbc52",
   "metadata": {},
   "outputs": [
    {
     "data": {
      "text/plain": [
       "18"
      ]
     },
     "execution_count": 21,
     "metadata": {},
     "output_type": "execute_result"
    }
   ],
   "source": [
    "## 2. Fark : bu komut ile rastgele üretilecek en küçük sayı 19'dur. Asla 20 üretilmez.\n",
    "random.randrange(10,20)"
   ]
  },
  {
   "cell_type": "code",
   "execution_count": 24,
   "id": "b5c877ec",
   "metadata": {},
   "outputs": [
    {
     "data": {
      "text/plain": [
       "20"
      ]
     },
     "execution_count": 24,
     "metadata": {},
     "output_type": "execute_result"
    }
   ],
   "source": [
    "## Randint(10,20) fonksiyonunda ise üretilecek en küçük sayı 10 iken en büyük sayı 20'dir.\n",
    "random.randint(10,20)"
   ]
  },
  {
   "cell_type": "markdown",
   "id": "41f6300a",
   "metadata": {},
   "source": [
    "### Sample \n",
    "##### Sample() fonksiyonunda dizi niteliği taşıyan veri tiplerinden belli sayıda numune alınabilmesini sağlar."
   ]
  },
  {
   "cell_type": "code",
   "execution_count": 25,
   "id": "b5bbdfeb",
   "metadata": {},
   "outputs": [
    {
     "data": {
      "text/plain": [
       "['irem', 'ismail']"
      ]
     },
     "execution_count": 25,
     "metadata": {},
     "output_type": "execute_result"
    }
   ],
   "source": [
    "liste = ['irem','sena','selma','ismail']\n",
    "random.sample(liste,2)\n"
   ]
  },
  {
   "cell_type": "code",
   "execution_count": null,
   "id": "424d74cb",
   "metadata": {},
   "outputs": [],
   "source": []
  }
 ],
 "metadata": {
  "kernelspec": {
   "display_name": "Python 3",
   "language": "python",
   "name": "python3"
  },
  "language_info": {
   "codemirror_mode": {
    "name": "ipython",
    "version": 3
   },
   "file_extension": ".py",
   "mimetype": "text/x-python",
   "name": "python",
   "nbconvert_exporter": "python",
   "pygments_lexer": "ipython3",
   "version": "3.8.8"
  }
 },
 "nbformat": 4,
 "nbformat_minor": 5
}
