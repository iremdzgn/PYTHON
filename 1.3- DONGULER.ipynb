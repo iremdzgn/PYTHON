{
 "cells": [
  {
   "cell_type": "markdown",
   "id": "a3ea5d8e",
   "metadata": {},
   "source": [
    "# For Döngüleri\n",
    "### Python for döngülerini bir eleman grubundaki (list, tuple, dictionary, set yada string ) her elemana ulaşmak için kullanırız."
   ]
  },
  {
   "cell_type": "code",
   "execution_count": 1,
   "id": "b3ad045b",
   "metadata": {},
   "outputs": [
    {
     "name": "stdout",
     "output_type": "stream",
     "text": [
      "1\n",
      "2\n",
      "3\n",
      "4\n",
      "5\n",
      "6\n",
      "7\n",
      "8\n",
      "9\n"
     ]
    }
   ],
   "source": [
    "numbers = [1,2,3,4,5,6,7,8,9]\n",
    "for num in numbers:\n",
    "    print(num)"
   ]
  },
  {
   "cell_type": "code",
   "execution_count": 2,
   "id": "c5b3f81f",
   "metadata": {},
   "outputs": [
    {
     "name": "stdout",
     "output_type": "stream",
     "text": [
      "name irem\n",
      "surname düzgün\n"
     ]
    }
   ],
   "source": [
    "## Dictionary de\n",
    "d = {'name' : 'irem', 'surname' : 'düzgün' }\n",
    "for key,value in d.items():\n",
    "    print(key, value)"
   ]
  },
  {
   "cell_type": "markdown",
   "id": "8413be1a",
   "metadata": {},
   "source": [
    "# While Döngüleri\n",
    "### While döngülerinde belirttiğimiz bi koşul doğru olduğu sürece while bloğu içersinde tanımladığımız kod satırlarını tekrarlatabiliriz."
   ]
  },
  {
   "cell_type": "code",
   "execution_count": 3,
   "id": "226f3e19",
   "metadata": {},
   "outputs": [
    {
     "name": "stdout",
     "output_type": "stream",
     "text": [
      "1\n",
      "2\n",
      "3\n",
      "4\n"
     ]
    }
   ],
   "source": [
    "i = 1 \n",
    "while i < 5:\n",
    "    print (i)\n",
    "    i += 1"
   ]
  },
  {
   "cell_type": "code",
   "execution_count": 4,
   "id": "a1626e5b",
   "metadata": {},
   "outputs": [
    {
     "name": "stdout",
     "output_type": "stream",
     "text": [
      "sayı: 5\n",
      "sayı: 9\n",
      "sayı: 7\n",
      "sayı: 6\n",
      "sayı: 8\n"
     ]
    },
    {
     "data": {
      "text/plain": [
       "[5, 6, 7, 8, 9]"
      ]
     },
     "execution_count": 4,
     "metadata": {},
     "output_type": "execute_result"
    }
   ],
   "source": [
    "## Kullanıcıdan aldığımız 5 sayıyı sıralı bir şekilde ekrana yazdırmak istersek:\n",
    "numbers =[ ]\n",
    "i = 0\n",
    "while i < 5:\n",
    "    sayi = int(input('sayı: '))\n",
    "    numbers.append(sayi)\n",
    "    i += 1\n",
    "numbers.sort()\n",
    "numbers"
   ]
  },
  {
   "cell_type": "markdown",
   "id": "ed5c452f",
   "metadata": {},
   "source": [
    "# Break ve Continue İfadeleri\n",
    "### \"Break\" komutu döngüyü sonlandırır.\n",
    "### \"Continue\" ise döngünün o turunu sonlandırır ve bir sonraki turdan devam eder."
   ]
  },
  {
   "cell_type": "code",
   "execution_count": 15,
   "id": "815aebd0",
   "metadata": {},
   "outputs": [
    {
     "name": "stdout",
     "output_type": "stream",
     "text": [
      "İ\n",
      "r\n"
     ]
    }
   ],
   "source": [
    "## For döngüsü için;\n",
    "name = 'İrem'\n",
    "for i in name:\n",
    "    if i == 'e':\n",
    "        break\n",
    "    \n",
    "    print(i)"
   ]
  },
  {
   "cell_type": "code",
   "execution_count": 16,
   "id": "a711adf6",
   "metadata": {},
   "outputs": [
    {
     "name": "stdout",
     "output_type": "stream",
     "text": [
      "D\n",
      "ü\n",
      "g\n",
      "ü\n",
      "n\n"
     ]
    }
   ],
   "source": [
    "surname = 'Düzgün'\n",
    "for i in surname:\n",
    "    if i == 'z':\n",
    "        continue\n",
    "    print(i)"
   ]
  },
  {
   "cell_type": "code",
   "execution_count": 17,
   "id": "b63fc49b",
   "metadata": {},
   "outputs": [
    {
     "name": "stdout",
     "output_type": "stream",
     "text": [
      "0\n",
      "1\n"
     ]
    }
   ],
   "source": [
    "## While döngüsü için;\n",
    "x = 0\n",
    "while x < 5 :\n",
    "    if x == 2:\n",
    "        break\n",
    "    print (x)\n",
    "    x += 1"
   ]
  },
  {
   "cell_type": "code",
   "execution_count": 18,
   "id": "5688cbc8",
   "metadata": {},
   "outputs": [
    {
     "name": "stdout",
     "output_type": "stream",
     "text": [
      "1\n",
      "2\n",
      "4\n",
      "5\n"
     ]
    }
   ],
   "source": [
    "x = 0 \n",
    "while x < 5 :\n",
    "    x += 1\n",
    "    if x == 3:\n",
    "        continue\n",
    "    print (x)\n",
    "        "
   ]
  },
  {
   "cell_type": "markdown",
   "id": "7c389701",
   "metadata": {},
   "source": [
    "##### Not : While döngüsünde continue komutunu kullanmak için while satırının alt satırına   x += 1 yazmalıyız."
   ]
  },
  {
   "cell_type": "code",
   "execution_count": null,
   "id": "77ec976d",
   "metadata": {},
   "outputs": [],
   "source": []
  }
 ],
 "metadata": {
  "kernelspec": {
   "display_name": "Python 3",
   "language": "python",
   "name": "python3"
  },
  "language_info": {
   "codemirror_mode": {
    "name": "ipython",
    "version": 3
   },
   "file_extension": ".py",
   "mimetype": "text/x-python",
   "name": "python",
   "nbconvert_exporter": "python",
   "pygments_lexer": "ipython3",
   "version": "3.8.8"
  }
 },
 "nbformat": 4,
 "nbformat_minor": 5
}
