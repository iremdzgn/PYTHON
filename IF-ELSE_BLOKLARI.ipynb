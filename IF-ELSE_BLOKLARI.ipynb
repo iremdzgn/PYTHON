{
 "cells": [
  {
   "cell_type": "markdown",
   "id": "3bf5c63a",
   "metadata": {},
   "source": [
    "# Koşullu Durum Blokları - If ve Else Blokları"
   ]
  },
  {
   "cell_type": "markdown",
   "id": "b1f17b1e",
   "metadata": {},
   "source": [
    "### If Bloğu\n",
    "#### Bir koşulun True yada False olan sonucuna göre farklı kod blokları oluşturmak için If komutunu kullanırız.\n",
    "##### Not : Kodu yazdırırken If'ten sonraki satırda print komutunu 'tab' tuşu ile bir adım öne alırız. Sonuç True ise kod yazdırılır. False is kod yazdırılmaz."
   ]
  },
  {
   "cell_type": "markdown",
   "id": "92fad73d",
   "metadata": {},
   "source": [
    "### Else Bloğu\n",
    "##### If bloğundaki bilgi yanlışsa else bloğundaki bilgi yazdırılır."
   ]
  },
  {
   "cell_type": "markdown",
   "id": "f0e168ad",
   "metadata": {},
   "source": [
    "### Elif Bloğu\n",
    "##### If bloğuna ve Else bloğuna yazılan ifadelerin ikiside doğru değilse If ' ten sonra Else ' den önce Elif bloğuyla 3. veya daha fazla koşul yazabiliriz."
   ]
  },
  {
   "cell_type": "code",
   "execution_count": 2,
   "id": "6c33b982",
   "metadata": {},
   "outputs": [
    {
     "name": "stdout",
     "output_type": "stream",
     "text": [
      "a b'den küçüktür.\n"
     ]
    }
   ],
   "source": [
    "a = 7\n",
    "b = 10\n",
    "if a > b :\n",
    "    print (\"a b'den büyüktür.\")\n",
    "elif a == b:\n",
    "    print ( \"a b'ye eşittir.\")\n",
    "else:\n",
    "    print(\"a b'den küçüktür.\")\n",
    "    "
   ]
  },
  {
   "cell_type": "code",
   "execution_count": null,
   "id": "8b5c52e7",
   "metadata": {},
   "outputs": [],
   "source": []
  }
 ],
 "metadata": {
  "kernelspec": {
   "display_name": "Python 3",
   "language": "python",
   "name": "python3"
  },
  "language_info": {
   "codemirror_mode": {
    "name": "ipython",
    "version": 3
   },
   "file_extension": ".py",
   "mimetype": "text/x-python",
   "name": "python",
   "nbconvert_exporter": "python",
   "pygments_lexer": "ipython3",
   "version": "3.8.8"
  }
 },
 "nbformat": 4,
 "nbformat_minor": 5
}
