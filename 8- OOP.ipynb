{
 "cells": [
  {
   "cell_type": "markdown",
   "id": "6bb89d3b",
   "metadata": {},
   "source": [
    "# Python'da Nesne Tabanlı Programlama (OOP)"
   ]
  },
  {
   "cell_type": "markdown",
   "id": "bd06f62d",
   "metadata": {},
   "source": [
    "## Nesne Tabanlı Programlama Nedir ?\n",
    "#### Nesne tabanlı programlama bir yazılım geliştirme yöntemidir.\n",
    "#### Class : Gerçek hayattaki bir nesneyi yazılım dünyasında temsil edecek olan yapıya 'class' denir. "
   ]
  },
  {
   "cell_type": "code",
   "execution_count": 3,
   "id": "a64770fa",
   "metadata": {},
   "outputs": [],
   "source": [
    "class Person:\n",
    "    pass\n",
    "p1 = Person()\n",
    "p2 = Person()"
   ]
  },
  {
   "cell_type": "markdown",
   "id": "94d266fa",
   "metadata": {},
   "source": [
    "#### İnstance(object) : Class bizim için kütüphane içinde daha önce oluşturulmuş ve belli başlı bazı özellikler ve metodlar class içine atılmıştır. Biz bir liste oluşturduğumuz zaman classın bir kopyasını oluşturmuş oluruz. Bu eklenmiş metodları oluşturmuş olduğumuz object üzerinden kullanırız."
   ]
  },
  {
   "cell_type": "markdown",
   "id": "a8c906c5",
   "metadata": {},
   "source": [
    "## Nesne Tabanlı Programlama: Class\n",
    "#### Class tanımlamak için öncelikle class keyword ünü kullanmaktır.\n",
    "#### Class keyword ünü kullandıktan sonra class a bir isim veririz. Fakat verdiğimiz isim büyük harfle başlamalıdır.\n",
    "#### Class tan sonra bir attributes yada bir metod belirtmemiz gerekir veya bunun yerine bir yer tutucu olan 'pass' keyword ünü kullanabiliriz.\n",
    "#### Class tan bir object(instance) tanımlaması yapıyoruz ve bu objectler küçük harfle başlamalıdır."
   ]
  },
  {
   "cell_type": "code",
   "execution_count": 4,
   "id": "31ce278d",
   "metadata": {},
   "outputs": [],
   "source": [
    "# class \n",
    "class Person():\n",
    "    pass\n",
    "    #attributes\n",
    "    #methods\n",
    "\n",
    "#object\n",
    "p1 = Person()"
   ]
  },
  {
   "cell_type": "markdown",
   "id": "4926fd43",
   "metadata": {},
   "source": [
    "#### Constructor (yapıcı) Metod : Class bünyesinde tanımlanan bir özellik (attribute)  bilgisine değer ataması yapabilmek için yapıcı metod tanımlaması yapmalıyız. İnstance metodlar için bir yapıcı özellik tanımlaması yapmamız gerekiyor."
   ]
  },
  {
   "cell_type": "code",
   "execution_count": 7,
   "id": "3c5ca051",
   "metadata": {},
   "outputs": [
    {
     "name": "stdout",
     "output_type": "stream",
     "text": [
      "init metodu çalıştı.\n"
     ]
    },
    {
     "data": {
      "text/plain": [
       "<__main__.Person at 0x205756d6d00>"
      ]
     },
     "execution_count": 7,
     "metadata": {},
     "output_type": "execute_result"
    }
   ],
   "source": [
    "class Person():\n",
    "    def __init__(self,name,year):\n",
    "        self.name = name\n",
    "        self.year = year\n",
    "        print('init metodu çalıştı.')\n",
    "p1 = Person('irem',1995)\n",
    "p1"
   ]
  },
  {
   "cell_type": "markdown",
   "id": "020b7c91",
   "metadata": {},
   "source": [
    "#### Yapıcı metod ismi __init__() olarak tanımlanmalıdır. Bu metod sınıf için özel bir metoddur. İlk parametre olarak self parametresi ve özellik parametresini alır.\n",
    "#### Self parametresi sınıftan türetilecek olan nesneleri (p1, p2) temsil eder.\n",
    "#### Not : Her bir nesne türetme aşamasında ekrana 'init metodu çalıştı.' şeklinde mesaj yazdırırız.\n",
    "#### Özellik (attributes) : Sınıflar içersinde class attributes yani özellikleri class seviyesinde yada nesne seviyesinde tanımlayabiliriz.\n",
    "#### Constructor içersinde tanımlanan özellikler nesne seviyesindedir ve değer atamaları nesne üzerinden yapılır. Ancak bazen sınıf seviyesinde de özellik tanımlaması yapmak isteyebiliriz.\n",
    "#### Girilen bilgiler daha sonradan değiştirilebilir."
   ]
  },
  {
   "cell_type": "markdown",
   "id": "ac4e3d94",
   "metadata": {},
   "source": [
    "## Nesne Tabanlı Programlama : Method\n",
    "#### Sınıflar içersinde tanımlanan ve sınıfın yeteneklerini yapmak için görevlendirilen fonksiyona metod denir."
   ]
  },
  {
   "cell_type": "code",
   "execution_count": 15,
   "id": "c7f5c4c9",
   "metadata": {},
   "outputs": [
    {
     "data": {
      "text/plain": [
       "26"
      ]
     },
     "execution_count": 15,
     "metadata": {},
     "output_type": "execute_result"
    }
   ],
   "source": [
    "class Person():\n",
    "    def __init__(self,name,year):\n",
    "        self.name = name\n",
    "        self.year = year\n",
    "    def calculateAge(self): #person sınıfı içersinde bir metod tanımladık ve metod nesne için bir yaş hesaplaması yapar.\n",
    "        return 2021-self.year\n",
    "    \n",
    "p1 = Person('irem',1995) # yıl bilgisini ise burada person sınıfını çağırırken yazdığımız ikinci parametreden alır.\n",
    "p1.calculateAge()\n",
    "# calculateAge() metodu bir instance metoddur ve her nesnenin özelliklerine self üzerinden ulaşılabilir."
   ]
  },
  {
   "cell_type": "markdown",
   "id": "972cb89b",
   "metadata": {},
   "source": [
    "## Nesne Tabanlı Programlama : Kalıtım (Inheritance)\n",
    "#### Nesne tabanlı programlama kalıtım(inheritance) ile bir sınıf (Parent Class) içersindeki tüm özellik ve metodları başka bir sınıfa (Child Class) aktarabiliriz.\n",
    "#### Parent Class : Parent bir sınıf yani base sınıf tanımlarken o sınıfa ait temel özellik ve yetenek tanımlaması yapıyoruz.(Super Class, Base Class)\n",
    "#### Child Class : Temel sınıftaki özelliklere sahip olacak ancak extra üzerine özellik yada yetenek ekleyecek olduğumuz sınıflar child yani sub class olarak tanımlanır. (Sub Class)"
   ]
  },
  {
   "cell_type": "code",
   "execution_count": 24,
   "id": "df09f0bd",
   "metadata": {},
   "outputs": [
    {
     "data": {
      "text/plain": [
       "'irem düzgün 26'"
      ]
     },
     "execution_count": 24,
     "metadata": {},
     "output_type": "execute_result"
    }
   ],
   "source": [
    "class Person ():   #Parent Class\n",
    "    def __init__ (self,name,surname,age):\n",
    "        self.name = name\n",
    "        self.surname = surname\n",
    "        self.age = age\n",
    "        \n",
    "    def eat(self):\n",
    "        print('I am eating')\n",
    "    def drint(self):\n",
    "        print('I am drinking')\n",
    "\n",
    "class Student(Person):  #Child Class\n",
    "    pass\n",
    "class Teacher(Person):  #Child Class\n",
    "    pass\n",
    "\n",
    "p1 = Student ('irem', 'düzgün', 26)\n",
    "p2 = Teacher ('selma', 'düzgün', 46)\n",
    "\n",
    "p1.name + ' ' + p1.surname + ' ' + str(p1.age)"
   ]
  },
  {
   "cell_type": "code",
   "execution_count": 25,
   "id": "96577020",
   "metadata": {},
   "outputs": [
    {
     "data": {
      "text/plain": [
       "'selma düzgün 46'"
      ]
     },
     "execution_count": 25,
     "metadata": {},
     "output_type": "execute_result"
    }
   ],
   "source": [
    "p2.name + ' ' + p2.surname + ' ' + str(p2.age)"
   ]
  },
  {
   "cell_type": "markdown",
   "id": "0e248199",
   "metadata": {},
   "source": [
    "#### Child Class 'ın genişletilmesi : Child sınıflar her ne kadar base sınıfın özelliklerini kullansada miras aldığı tüm özelliklerin üstüne kendine özgü özelliklere ihtiyaç duyarlar."
   ]
  },
  {
   "cell_type": "code",
   "execution_count": 29,
   "id": "b58cab75",
   "metadata": {},
   "outputs": [],
   "source": [
    "class Student(Person):\n",
    "    def __init__(self,name,surname,age,number):\n",
    "        Person.__init__(self,name,surname,age)\n",
    "        self.number = number\n",
    "        \n",
    "# Person.__init__() ile base sınıfın yapıcı metodunu çağrıyoruz. Aynı şekilde super().__init__() şeklinde de kullanabiliriz."
   ]
  },
  {
   "cell_type": "markdown",
   "id": "6c825f44",
   "metadata": {},
   "source": [
    "### Base Sınıf Metodunu Ezme (Method of Override)"
   ]
  },
  {
   "cell_type": "code",
   "execution_count": 35,
   "id": "04b2e206",
   "metadata": {},
   "outputs": [],
   "source": [
    "class Person():\n",
    "    #diğer tanımlar...\n",
    "    def who(self):\n",
    "        print ('I am person')\n",
    "class Student(Person):\n",
    "    def who(self):\n",
    "        print('I am student')\n",
    "        \n",
    "class Teacher(Person):\n",
    "    def who(self):\n",
    "        print('I am teacher')\n",
    "        "
   ]
  },
  {
   "cell_type": "markdown",
   "id": "9b5738b9",
   "metadata": {},
   "source": [
    "#### Aynı isimde eklediğimiz metodlar temel sınıftaki metodu ezmiş olur ve artık student ve teacher nesneleri üzerinden çağırdığımız who() metodu farklı mesajları ekrana yazar."
   ]
  },
  {
   "cell_type": "code",
   "execution_count": null,
   "id": "20a72cb2",
   "metadata": {},
   "outputs": [],
   "source": []
  }
 ],
 "metadata": {
  "kernelspec": {
   "display_name": "Python 3",
   "language": "python",
   "name": "python3"
  },
  "language_info": {
   "codemirror_mode": {
    "name": "ipython",
    "version": 3
   },
   "file_extension": ".py",
   "mimetype": "text/x-python",
   "name": "python",
   "nbconvert_exporter": "python",
   "pygments_lexer": "ipython3",
   "version": "3.8.8"
  }
 },
 "nbformat": 4,
 "nbformat_minor": 5
}
