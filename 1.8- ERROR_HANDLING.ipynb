{
 "cells": [
  {
   "cell_type": "markdown",
   "id": "3bfcbead",
   "metadata": {},
   "source": [
    "# Python'da Hata ve Hata Yönetimi\n",
    "## Hata ve Hata Yönetimi Nedir ?\n",
    "#### Error (Hata) : Yanlış girilen bilgiler veya kullanıcıdan alınan yanlış bilgiler hataya neden olur.\n",
    "#### Error Handling (Hata Yönetimi) : Hataya neden olan bilgileri önceden ön görerek hataları engellemek için yazılan kodlara denir."
   ]
  },
  {
   "cell_type": "markdown",
   "id": "e449f076",
   "metadata": {},
   "source": [
    "#### print (a) : NameError\n",
    "#### int ('1a2') : ValueError\n",
    "#### print (10/0) : ZeroDivisionError\n",
    "#### print('denem'e) : SyntaxError"
   ]
  },
  {
   "cell_type": "markdown",
   "id": "6de3cfe4",
   "metadata": {},
   "source": [
    "## Hata Yönetimi (Error Handling)\n",
    "#### Gelebilecek hataları önlemek için \"try\" kod bloğu kullanılır. Öngörülen hatalar \"except\" bloğu açılarak oraya yazılır."
   ]
  },
  {
   "cell_type": "code",
   "execution_count": 1,
   "id": "0e8a8fb3",
   "metadata": {},
   "outputs": [
    {
     "name": "stdout",
     "output_type": "stream",
     "text": [
      "x: 10\n",
      "y: 0\n",
      "y için 0 rakamı girilemez.\n"
     ]
    }
   ],
   "source": [
    "try:\n",
    "    x = int(input('x: '))\n",
    "    y = int(input('y: '))\n",
    "    print (x/y)\n",
    "except ZeroDivisionError:\n",
    "    print('y için 0 rakamı girilemez.')"
   ]
  },
  {
   "cell_type": "markdown",
   "id": "5d6c2a05",
   "metadata": {},
   "source": [
    "#### Eğer yapılabilecek hata daha fazlaysa birden fazla except kısmı çalıştırılabilir veya except kısmına virgülle birden fazla hata yazabiliriz. Yada genel bir hata yazdırıp hata kodunu yazdırabiliriz."
   ]
  },
  {
   "cell_type": "code",
   "execution_count": 2,
   "id": "25ccc1c5",
   "metadata": {},
   "outputs": [
    {
     "name": "stdout",
     "output_type": "stream",
     "text": [
      "x: 10\n",
      "y: 0\n",
      "yanlış bilgi girdiniz. division by zero\n",
      " try except sonlandı\n",
      "x: 2\n",
      "y: b\n",
      "yanlış bilgi girdiniz. invalid literal for int() with base 10: 'b'\n",
      " try except sonlandı\n",
      "x: 10\n",
      "y: 5\n",
      "2.0\n",
      " try except sonlandı\n"
     ]
    }
   ],
   "source": [
    "while True:\n",
    "    try:\n",
    "        x = int(input('x: '))\n",
    "        y = int(input('y: '))\n",
    "        print(x/y)\n",
    "        \n",
    "    except Exception as ex:\n",
    "        print('yanlış bilgi girdiniz.',ex)\n",
    "        \n",
    "    else:\n",
    "        break        \n",
    "# Else bloğundan sonra bir \"finally\" bloğu çalıştırabiliriz. Final bloğu döngüden çıkıldığı zaman çalışır.\n",
    "    finally:\n",
    "        print(' try except sonlandı')   # Final bloğunun çalıştırılmasındaki amaç kaynakların kapatılması aşamasında işlemlerin bitirilmesidir."
   ]
  },
  {
   "cell_type": "markdown",
   "id": "bb283f54",
   "metadata": {},
   "source": [
    "## Hata Nesnesi Oluşturma (Raising an Exception)\n",
    "#### Hata nesnesi oluşturma \"raise\" komutuyla yapılır."
   ]
  },
  {
   "cell_type": "code",
   "execution_count": 5,
   "id": "0ccb69ff",
   "metadata": {},
   "outputs": [
    {
     "name": "stdout",
     "output_type": "stream",
     "text": [
      "x: 30\n"
     ]
    },
    {
     "ename": "Exception",
     "evalue": "x 20'den büyük değer alamaz.",
     "output_type": "error",
     "traceback": [
      "\u001b[1;31m---------------------------------------------------------------------------\u001b[0m",
      "\u001b[1;31mException\u001b[0m                                 Traceback (most recent call last)",
      "\u001b[1;32m<ipython-input-5-334119224c04>\u001b[0m in \u001b[0;36m<module>\u001b[1;34m\u001b[0m\n\u001b[0;32m      1\u001b[0m \u001b[0mx\u001b[0m \u001b[1;33m=\u001b[0m \u001b[0mint\u001b[0m\u001b[1;33m(\u001b[0m\u001b[0minput\u001b[0m\u001b[1;33m(\u001b[0m\u001b[1;34m'x: '\u001b[0m\u001b[1;33m)\u001b[0m\u001b[1;33m)\u001b[0m\u001b[1;33m\u001b[0m\u001b[1;33m\u001b[0m\u001b[0m\n\u001b[0;32m      2\u001b[0m \u001b[1;32mif\u001b[0m \u001b[0mx\u001b[0m \u001b[1;33m>\u001b[0m \u001b[1;36m20\u001b[0m\u001b[1;33m:\u001b[0m\u001b[1;33m\u001b[0m\u001b[1;33m\u001b[0m\u001b[0m\n\u001b[1;32m----> 3\u001b[1;33m     \u001b[1;32mraise\u001b[0m \u001b[0mException\u001b[0m\u001b[1;33m(\u001b[0m\u001b[1;34m\"x 20'den büyük değer alamaz.\"\u001b[0m\u001b[1;33m)\u001b[0m\u001b[1;33m\u001b[0m\u001b[1;33m\u001b[0m\u001b[0m\n\u001b[0m",
      "\u001b[1;31mException\u001b[0m: x 20'den büyük değer alamaz."
     ]
    }
   ],
   "source": [
    "x = int(input('x: ')) \n",
    "if x > 20:\n",
    "    raise Exception(\"x 20'den büyük değer alamaz.\")"
   ]
  },
  {
   "cell_type": "code",
   "execution_count": 11,
   "id": "6ed031eb",
   "metadata": {},
   "outputs": [
    {
     "name": "stdout",
     "output_type": "stream",
     "text": [
      "password: 235453\n",
      "parola en az 7 karakter olmalıdır.\n"
     ]
    }
   ],
   "source": [
    "def check_password(psw):\n",
    "    import re \n",
    "    if len(psw) < 8:\n",
    "        raise Exception (\"parola en az 7 karakter olmalıdır.\")\n",
    "    elif not re.search (\"[a-z]\",psw):\n",
    "        raise Exception (\"parola en az bir küçük harf içermelidir.\")\n",
    "    elif not re.search (\"[A-Z]\",psw):\n",
    "        raise Exception (\"parola en az bir büyük harf içermelidir.\")\n",
    "    elif not re.search (\"[0-9]\",psw):\n",
    "        raise Exception (\"parola en az bir rakam içermelidir.\")\n",
    "    elif re.search (\"\\s\",psw):\n",
    "        raise Exception (\"parola boşluk içeremez.\")\n",
    "password = input ('password: ')\n",
    "try:\n",
    "    check_password(password)\n",
    "except Exception as ex:\n",
    "    print(ex)"
   ]
  },
  {
   "cell_type": "code",
   "execution_count": null,
   "id": "b12db828",
   "metadata": {},
   "outputs": [],
   "source": []
  },
  {
   "cell_type": "code",
   "execution_count": null,
   "id": "4c60ce96",
   "metadata": {},
   "outputs": [],
   "source": []
  },
  {
   "cell_type": "code",
   "execution_count": null,
   "id": "b13b22a2",
   "metadata": {},
   "outputs": [],
   "source": []
  },
  {
   "cell_type": "code",
   "execution_count": null,
   "id": "0ebd47be",
   "metadata": {},
   "outputs": [],
   "source": []
  },
  {
   "cell_type": "code",
   "execution_count": null,
   "id": "a81aa3cb",
   "metadata": {},
   "outputs": [],
   "source": []
  },
  {
   "cell_type": "code",
   "execution_count": null,
   "id": "89a6d212",
   "metadata": {},
   "outputs": [],
   "source": []
  },
  {
   "cell_type": "code",
   "execution_count": null,
   "id": "eca102a4",
   "metadata": {},
   "outputs": [],
   "source": []
  }
 ],
 "metadata": {
  "kernelspec": {
   "display_name": "Python 3",
   "language": "python",
   "name": "python3"
  },
  "language_info": {
   "codemirror_mode": {
    "name": "ipython",
    "version": 3
   },
   "file_extension": ".py",
   "mimetype": "text/x-python",
   "name": "python",
   "nbconvert_exporter": "python",
   "pygments_lexer": "ipython3",
   "version": "3.8.8"
  }
 },
 "nbformat": 4,
 "nbformat_minor": 5
}
