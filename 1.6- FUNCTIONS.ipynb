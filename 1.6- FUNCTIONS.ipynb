{
 "cells": [
  {
   "cell_type": "markdown",
   "id": "0ee61301",
   "metadata": {},
   "source": [
    "# Python'da Fonksiyonlar\n",
    "### Metod : Bir object (değişken) üzerindew belli işlemleri gerçekleştiren objelere özgü fonksiyonlardır. ( append(), pop()...)\n",
    "### Class : Bünyesinde bir çok metod barındıran bir yapıdır. Metodlar sınıf (class) bünyesinde değerlendirilir.\n",
    "### Fonksiyon : Metod gibi belli amaçlara yönelik oluşturulmuş olan bir yapıdır. Yalnız fonksiyonları classlar içinde tanımlıyamıyoruz. Fonksiyonlara direkt fonksiyon adıyla ulaşabiliriz."
   ]
  },
  {
   "cell_type": "markdown",
   "id": "83b03b5b",
   "metadata": {},
   "source": [
    "## Python'da Fonksiyonların Kullanımı\n",
    "#### Fonksiyon oluşturmak için kullanılan anahtar sözcük 'def' tir."
   ]
  },
  {
   "cell_type": "code",
   "execution_count": 26,
   "id": "c23f3fc4",
   "metadata": {},
   "outputs": [
    {
     "name": "stdout",
     "output_type": "stream",
     "text": [
      "Fruit name is cherry\n",
      "Fruit name is fruit\n"
     ]
    }
   ],
   "source": [
    "def sayFruitName(name = 'fruit'):\n",
    "    print ('Fruit name is ' + name)\n",
    "    \n",
    "sayFruitName('cherry')\n",
    "\n",
    "# Parantez içine parametre vermediğimiz zaman fonksiyonda yazılmış olan 'fruit' ifadesini yazar.\n",
    "\n",
    "sayFruitName()"
   ]
  },
  {
   "cell_type": "code",
   "execution_count": 27,
   "id": "fa698c18",
   "metadata": {},
   "outputs": [
    {
     "data": {
      "text/plain": [
       "'Fruit name is cherry'"
      ]
     },
     "execution_count": 27,
     "metadata": {},
     "output_type": "execute_result"
    }
   ],
   "source": [
    "## Print yerine return yazıp değişken tanımlayıp daha sonra değişkeni yazdırırsak aynı sonucu alırız.\n",
    "\n",
    "def sayFruitName (name = 'fruit'):\n",
    "    return 'Fruit name is ' + name\n",
    "frt = sayFruitName('cherry')\n",
    "frt"
   ]
  },
  {
   "cell_type": "markdown",
   "id": "26996821",
   "metadata": {},
   "source": [
    "## Python'da Fonksiyon Parametreleri"
   ]
  },
  {
   "cell_type": "code",
   "execution_count": 28,
   "id": "2bf14613",
   "metadata": {},
   "outputs": [
    {
     "data": {
      "text/plain": [
       "'sena'"
      ]
     },
     "execution_count": 28,
     "metadata": {},
     "output_type": "execute_result"
    }
   ],
   "source": [
    "def changeName(n):\n",
    "    n = 'irem'\n",
    "name = 'sena'\n",
    "changeName(name)\n",
    "name\n",
    "## Name bilgisi 'n' değişkenine kopyalandı. Fakat n alanı farklı bir alan olduğu için o alan içindeki değer n ile güncellenir. n değeri fonksiyon ile değiştirilemedi.(Value Type)"
   ]
  },
  {
   "cell_type": "code",
   "execution_count": 31,
   "id": "a7d110be",
   "metadata": {},
   "outputs": [
    {
     "name": "stdout",
     "output_type": "stream",
     "text": [
      "['istanbul', 'izmir']\n"
     ]
    }
   ],
   "source": [
    "def change(n):\n",
    "    n[0] = 'istanbul'\n",
    "sehirler = ['ankara','izmir']\n",
    "change(sehirler)\n",
    "print(sehirler)\n",
    "\n",
    "## Bu komutla karşımıza ekran çıktısı olarak değiştirilmiş liste gelir. Çünkü brada 'Value type' tan farklı olarak bir reference kopyalaması yapıyoruz.Yani tanımlanmış olan n parametresine şehirler listesinin adresi gönderiliyor."
   ]
  },
  {
   "cell_type": "code",
   "execution_count": 32,
   "id": "b8dbf9f4",
   "metadata": {},
   "outputs": [
    {
     "data": {
      "text/plain": [
       "['istanbul', 'izmir']"
      ]
     },
     "execution_count": 32,
     "metadata": {},
     "output_type": "execute_result"
    }
   ],
   "source": [
    "n = sehirler[:]\n",
    "change(n)\n",
    "n\n",
    "## Şehirler listesini olduğu gibi n değişkenine kopyalarız. Fakat bu kopyalama sonradan bir değişiklik yapıldıysa değişiklik yapılmış hali yazdırılır."
   ]
  },
  {
   "cell_type": "code",
   "execution_count": 33,
   "id": "ec048ac7",
   "metadata": {},
   "outputs": [
    {
     "data": {
      "text/plain": [
       "'irem düzgün'"
      ]
     },
     "execution_count": 33,
     "metadata": {},
     "output_type": "execute_result"
    }
   ],
   "source": [
    "def person(ad,soyad):\n",
    "    return ad + \" \" + soyad\n",
    "\n",
    "person(\"irem\", \"düzgün\")\n",
    "\n",
    "##bu komutla sadece yazdığımız kadar parametre gönderebiliyoruz."
   ]
  },
  {
   "cell_type": "code",
   "execution_count": 34,
   "id": "200eed18",
   "metadata": {},
   "outputs": [
    {
     "name": "stdout",
     "output_type": "stream",
     "text": [
      "('paris', 'berlin', 'oslo', 'istanbul', 'madrid')\n"
     ]
    }
   ],
   "source": [
    "def cities (*args):\n",
    "    return args\n",
    "\n",
    "print(cities('paris','berlin','oslo','istanbul','madrid'))\n",
    "## Fakat değişken adının önüne (*) işareti koyarsak istediğimiz kadar parametre gönderebiliriz."
   ]
  },
  {
   "cell_type": "code",
   "execution_count": 35,
   "id": "b5519883",
   "metadata": {},
   "outputs": [
    {
     "name": "stdout",
     "output_type": "stream",
     "text": [
      "<class 'dict'>\n",
      "name is sena\n",
      "age is 24\n",
      "city is ankara\n",
      "<class 'dict'>\n",
      "name is irem\n",
      "age is 26\n",
      "city is ankara\n"
     ]
    }
   ],
   "source": [
    "## Eğer bir dictionary listesi oluşturmak istiyorsak (**) işareti koymalıyız.\n",
    "\n",
    "def users(**kwargs):\n",
    "    print(type(kwargs))\n",
    "    for key, value in kwargs.items():\n",
    "        print ('{} is {}'.format(key,value))\n",
    "users(name = 'sena', age = 24, city ='ankara')\n",
    "users(name = 'irem', age = 26, city ='ankara')"
   ]
  },
  {
   "cell_type": "markdown",
   "id": "36c75ca3",
   "metadata": {},
   "source": [
    "## Python'da Lambda İfadeleri, Harita ve Filtre"
   ]
  },
  {
   "cell_type": "markdown",
   "id": "48faeee6",
   "metadata": {},
   "source": [
    "### Map()"
   ]
  },
  {
   "cell_type": "markdown",
   "id": "2883c732",
   "metadata": {},
   "source": [
    "##### Map() fonksiyonu parametre olarak aldığı fonksiyona, parametre olarak aldığı listenin her elemanını sırasıyla parametre olarak gönderir."
   ]
  },
  {
   "cell_type": "code",
   "execution_count": 36,
   "id": "a2593618",
   "metadata": {},
   "outputs": [
    {
     "data": {
      "text/plain": [
       "{4, 25, 36, 64, 81}"
      ]
     },
     "execution_count": 36,
     "metadata": {},
     "output_type": "execute_result"
    }
   ],
   "source": [
    "def square(num):\n",
    "    return num**2\n",
    "numbers = [2,5,6,8,9]\n",
    "x =set(map(square,numbers))\n",
    "x\n",
    "## map'ten dönen sonucu ya bir liste aracılığıyla çevrilmesi yada for döngüsü aracılığıyla numerate edilmesi gerekir."
   ]
  },
  {
   "cell_type": "markdown",
   "id": "d4d62645",
   "metadata": {},
   "source": [
    "### Filter()"
   ]
  },
  {
   "cell_type": "markdown",
   "id": "0903e078",
   "metadata": {},
   "source": [
    "##### Filter() fonksiyonu is çağırılan fonksiyonun döndürdüğü değerin True olduğu durumlara göre liste döndürür. Yani fonksiyona gönderilen değerler içerisinden istediklerimizi alarak yeni liste oluşturmamızı sağlar."
   ]
  },
  {
   "cell_type": "code",
   "execution_count": 37,
   "id": "d7424cf2",
   "metadata": {},
   "outputs": [
    {
     "data": {
      "text/plain": [
       "{2, 6, 8}"
      ]
     },
     "execution_count": 37,
     "metadata": {},
     "output_type": "execute_result"
    }
   ],
   "source": [
    "numbers = [5,7,6,2,3,6,8,11]\n",
    "def check_even(num):\n",
    "    return num % 2 ==0\n",
    "result = set (filter(check_even,numbers))\n",
    "result"
   ]
  },
  {
   "cell_type": "markdown",
   "id": "0723b8cf",
   "metadata": {},
   "source": [
    "### Lambda"
   ]
  },
  {
   "cell_type": "markdown",
   "id": "88bff1fc",
   "metadata": {},
   "source": [
    "##### Python'da isimsiz olarak tanımladığımız fonksiyon içinde kullanıldığında anlam kazanır."
   ]
  },
  {
   "cell_type": "code",
   "execution_count": 38,
   "id": "4aa8a0e3",
   "metadata": {},
   "outputs": [
    {
     "data": {
      "text/plain": [
       "16"
      ]
     },
     "execution_count": 38,
     "metadata": {},
     "output_type": "execute_result"
    }
   ],
   "source": [
    "x = lambda a,b,c :a+b+c\n",
    "x(2,5,9)"
   ]
  },
  {
   "cell_type": "markdown",
   "id": "49ca892f",
   "metadata": {},
   "source": [
    "## Fonksiyonların Kapsamı: Global ve Yerel Değişkenler"
   ]
  },
  {
   "cell_type": "markdown",
   "id": "7d88219b",
   "metadata": {},
   "source": [
    "##### Python'da her bir değişkenin, fonksiyonun ve sınıfların (class) aslında bir kapsamı (scope) bulunur ve Python herbir değişkeni bir isism alanında (namespace) tanımlar. Değişkenlerin isim alanı ise bu değişkenlerin nerelerde var olduğunu ve nerelerde kullanılabileceğini gösterir.\n",
    "##### Python'da fonksiyonlarda tanımlanan değişkenler Python tarafından yerel (local) değişkenler olarak tanımlanırlar. Yani bir fonksiyon bloğunda oluşturulan değişkenler fonksiyona özgüdür ve fonksiyon çalışmasını bitirdikten sonra bu değişkenler bellekten silinir ve yok olur. Böylelikle fonksiyon içinde tanımlanmış bir değişkene başka bir yerden erişilemez.\n",
    "##### Python'da en genel kapsama sahip değişkenler ise Global değişkenler olarak tanımlanırlar ve global değişkenlere tanımlandığı andan itibaren programın her yerinden ulaşabiliriz."
   ]
  },
  {
   "cell_type": "code",
   "execution_count": 41,
   "id": "9e67d0d9",
   "metadata": {},
   "outputs": [
    {
     "name": "stdout",
     "output_type": "stream",
     "text": [
      "10\n"
     ]
    },
    {
     "data": {
      "text/plain": [
       "5"
      ]
     },
     "execution_count": 41,
     "metadata": {},
     "output_type": "execute_result"
    }
   ],
   "source": [
    "def function ():\n",
    "    a = 10  # yerel isim alanında bir değişken\n",
    "    print(a)\n",
    "function()\n",
    "a #a değişkeni yok oldu"
   ]
  },
  {
   "cell_type": "code",
   "execution_count": 40,
   "id": "ce916922",
   "metadata": {},
   "outputs": [
    {
     "data": {
      "text/plain": [
       "<function __main__.function()>"
      ]
     },
     "execution_count": 40,
     "metadata": {},
     "output_type": "execute_result"
    }
   ],
   "source": [
    "b = 5 #global isim alanında bir değişken \n",
    "def function():\n",
    "    print (b) #b değişkeni globalde tanımlandı\n",
    "function"
   ]
  },
  {
   "cell_type": "code",
   "execution_count": null,
   "id": "e6d493c4",
   "metadata": {},
   "outputs": [],
   "source": []
  }
 ],
 "metadata": {
  "kernelspec": {
   "display_name": "Python 3",
   "language": "python",
   "name": "python3"
  },
  "language_info": {
   "codemirror_mode": {
    "name": "ipython",
    "version": 3
   },
   "file_extension": ".py",
   "mimetype": "text/x-python",
   "name": "python",
   "nbconvert_exporter": "python",
   "pygments_lexer": "ipython3",
   "version": "3.8.8"
  }
 },
 "nbformat": 4,
 "nbformat_minor": 5
}
