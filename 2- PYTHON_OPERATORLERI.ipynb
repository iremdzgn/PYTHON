{
 "cells": [
  {
   "cell_type": "markdown",
   "id": "6ab14c8b",
   "metadata": {},
   "source": [
    "# Atama Operatörleri"
   ]
  },
  {
   "cell_type": "code",
   "execution_count": 1,
   "id": "b4902997",
   "metadata": {},
   "outputs": [],
   "source": [
    "x = 5\n",
    "y = 10 \n",
    "z = 20"
   ]
  },
  {
   "cell_type": "markdown",
   "id": "0ebba7e0",
   "metadata": {},
   "source": [
    "##### x += 5  :  x = x + 5\n",
    "##### x -= 5   :  x = x - 5\n",
    "##### x *= 5   : x = x * 5\n",
    "##### x // y     : kalansız bölme\n",
    "    "
   ]
  },
  {
   "cell_type": "markdown",
   "id": "97964189",
   "metadata": {},
   "source": [
    "# Karşılaştırma Öpreatörleri"
   ]
  },
  {
   "cell_type": "markdown",
   "id": "a10da920",
   "metadata": {},
   "source": [
    "##### Karşılaştırma Operatörleri değişkenlerin aldığı değerlerin karşılaştırılmasında kullanılır. Bize Bool tipinde ( True , False) veri gönderir."
   ]
  },
  {
   "cell_type": "markdown",
   "id": "b3854112",
   "metadata": {},
   "source": [
    "##### == : eşit mi?\n",
    "##### != : eşit değil mi?\n",
    "##### > : büyük mü?\n",
    "##### < : küçük mü?\n",
    "##### >= büyük eşit mi?\n",
    "##### <= küçük eşit mi? \n",
    "##### %2 = 0 : 2 ile bölümünden kalan 0 mı?"
   ]
  },
  {
   "cell_type": "markdown",
   "id": "88475692",
   "metadata": {},
   "source": [
    "# Mantıksal Operatörler"
   ]
  },
  {
   "cell_type": "markdown",
   "id": "5fa46e5c",
   "metadata": {},
   "source": [
    "##### and :       ( 8 < 10 ) and ( 6 > 5 )      sonuç : True\n",
    "##### or    :       ( 5 == 5 ) or ( 6 == 5 )      sonuç : True\n",
    "##### not  :       not ( 5 == 5 )                    sonuç : False"
   ]
  },
  {
   "cell_type": "markdown",
   "id": "996f1912",
   "metadata": {},
   "source": [
    "# Identity ve Membership Operatörleri"
   ]
  },
  {
   "cell_type": "markdown",
   "id": "c791f82b",
   "metadata": {},
   "source": [
    "##### Identity Operatör ( is ) : Her iki değişkende aynı ise True , farklı ise False dödürür."
   ]
  },
  {
   "cell_type": "code",
   "execution_count": 4,
   "id": "740f7328",
   "metadata": {},
   "outputs": [],
   "source": [
    "x = 10 \n",
    "y = 'a'"
   ]
  },
  {
   "cell_type": "code",
   "execution_count": 5,
   "id": "957a9a81",
   "metadata": {},
   "outputs": [
    {
     "data": {
      "text/plain": [
       "False"
      ]
     },
     "execution_count": 5,
     "metadata": {},
     "output_type": "execute_result"
    }
   ],
   "source": [
    "x is y"
   ]
  },
  {
   "cell_type": "markdown",
   "id": "45d81984",
   "metadata": {},
   "source": [
    "##### Membership Operatör ( in ) : Değişkenin liste içersinde olup olmadığını sorgular. True yada False döndürür."
   ]
  },
  {
   "cell_type": "code",
   "execution_count": 2,
   "id": "545813d1",
   "metadata": {},
   "outputs": [
    {
     "data": {
      "text/plain": [
       "True"
      ]
     },
     "execution_count": 2,
     "metadata": {},
     "output_type": "execute_result"
    }
   ],
   "source": [
    "x = ['banana', 'apple']\n",
    "'banana' in x"
   ]
  },
  {
   "cell_type": "code",
   "execution_count": null,
   "id": "7d171d22",
   "metadata": {},
   "outputs": [],
   "source": []
  }
 ],
 "metadata": {
  "kernelspec": {
   "display_name": "Python 3",
   "language": "python",
   "name": "python3"
  },
  "language_info": {
   "codemirror_mode": {
    "name": "ipython",
    "version": 3
   },
   "file_extension": ".py",
   "mimetype": "text/x-python",
   "name": "python",
   "nbconvert_exporter": "python",
   "pygments_lexer": "ipython3",
   "version": "3.8.8"
  }
 },
 "nbformat": 4,
 "nbformat_minor": 5
}
