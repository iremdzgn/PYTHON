{
 "cells": [
  {
   "cell_type": "markdown",
   "id": "d115245d",
   "metadata": {},
   "source": [
    "# Python'da Dosya Yönetimi"
   ]
  },
  {
   "cell_type": "markdown",
   "id": "063d1fcf",
   "metadata": {},
   "source": [
    "## Python'da Dosya Açma ve Yazma\n",
    "#### Python'da dosya açmak ve oluşturmak için open() fonksiyonu kullanılır.\n",
    "#### Kullanımı : open(dosya adı, dosya erişme modu)"
   ]
  },
  {
   "cell_type": "code",
   "execution_count": 23,
   "id": "65ba226d",
   "metadata": {},
   "outputs": [],
   "source": [
    "file = open(\"newfile.txt\",\"w\")"
   ]
  },
  {
   "cell_type": "markdown",
   "id": "a70c8e5f",
   "metadata": {},
   "source": [
    "#### Dosya erişme modu dosyayı hangi amaçla açtığımızı belirtir.\n",
    "#### \"w\" (write) : yazma modu. Dosyayı konumda oluşturur. \"w\" ile açtığımız dosyadaki bilgiler daha sonraki girilen bilgiler tarafından silinir.\n",
    "#### \"a\" (append) : ekleme. Dosya yoksa konumda oluşturulur. \"a\" ile açtığımız dosyada sonradan eklenen bilgilerdaha öncekilerin üstüne yazdırılır.\n",
    "#### \"x\" (create) : oluşturma. Dosya zaten varsa hata verir.\n",
    "#### \"r\" (read) : okuma. Varsayılan dosya konumda yoksa hata verir."
   ]
  },
  {
   "cell_type": "code",
   "execution_count": 2,
   "id": "f654bec3",
   "metadata": {},
   "outputs": [],
   "source": [
    "file.close() #Dosyayı açtıktan sonra geri kapatmamız gerekir. Yoksa kaynakları tüketir."
   ]
  },
  {
   "cell_type": "code",
   "execution_count": 5,
   "id": "f107bbdf",
   "metadata": {},
   "outputs": [
    {
     "data": {
      "text/plain": [
       "11"
      ]
     },
     "execution_count": 5,
     "metadata": {},
     "output_type": "execute_result"
    }
   ],
   "source": [
    "file.write(\"İrem Düzgün\") # Dosya içersine write fonksiyonu ile bilgi yazma."
   ]
  },
  {
   "cell_type": "code",
   "execution_count": 32,
   "id": "8f540a86",
   "metadata": {},
   "outputs": [
    {
     "data": {
      "text/plain": [
       "11"
      ]
     },
     "execution_count": 32,
     "metadata": {},
     "output_type": "execute_result"
    }
   ],
   "source": [
    "file = open(\"newfile.txt\",\"a\",encoding = \"utf-8\") # encoding = 'utf-8' kodunu yazdığımızda birçok karakter tanınır hale gelir.\n",
    "file.write(\"irem düzgün\")"
   ]
  },
  {
   "cell_type": "markdown",
   "id": "da6607e5",
   "metadata": {},
   "source": [
    "## Python'da Dosya Okuma"
   ]
  },
  {
   "cell_type": "code",
   "execution_count": 18,
   "id": "4a75f0a8",
   "metadata": {},
   "outputs": [],
   "source": [
    "file = open(\"newfile.txt\",\"r\")"
   ]
  },
  {
   "cell_type": "markdown",
   "id": "162fd79f",
   "metadata": {},
   "source": [
    "#### Eğer okumaya çalıştığımız dosya daha önceden oluşturulmamışsa bize hata verir ve biz bu hatayı vereceğini öngörerek bir hata mesajı yazdırabiliriz."
   ]
  },
  {
   "cell_type": "code",
   "execution_count": 9,
   "id": "e0c3b98e",
   "metadata": {},
   "outputs": [
    {
     "name": "stdout",
     "output_type": "stream",
     "text": [
      "<_io.TextIOWrapper name='newfile.txt' mode='r' encoding='cp1254'>\n",
      "dosya kapandı\n"
     ]
    }
   ],
   "source": [
    "try:\n",
    "    file = open (\"newfile.txt\",\"r\")\n",
    "    print(file)\n",
    "except FileNotFoundError:\n",
    "    print(\"dosya okuma hatası\")\n",
    "finally:\n",
    "    print(\"dosya kapandı\")\n",
    "    file.close()"
   ]
  },
  {
   "cell_type": "code",
   "execution_count": 13,
   "id": "413fdae2",
   "metadata": {},
   "outputs": [
    {
     "name": "stdout",
     "output_type": "stream",
     "text": [
      "\n"
     ]
    }
   ],
   "source": [
    "content = file.read()\n",
    "print(content) #yazdırdığımızda dosya içerikleri olduğu gibi yazdırılır.\n",
    "file.close()"
   ]
  },
  {
   "cell_type": "markdown",
   "id": "3f23148d",
   "metadata": {},
   "source": [
    "#### readline() fonksiyonu: Readline fonksiyonu her seferindebir satırı okur.\n",
    "#### readlines() fonksiyonu: Her bir satırı bir liste elemanı olarak alır ve yazdırdığımızda bir liste içinde yazdırır."
   ]
  },
  {
   "cell_type": "markdown",
   "id": "fab4f212",
   "metadata": {},
   "source": [
    "## Dosya Okuma Fonksiyonları"
   ]
  },
  {
   "cell_type": "code",
   "execution_count": 15,
   "id": "f490ec52",
   "metadata": {},
   "outputs": [
    {
     "name": "stdout",
     "output_type": "stream",
     "text": [
      "İrem Düzgünirem dÃ¼zgÃ¼n\n"
     ]
    }
   ],
   "source": [
    "with open(\"newfile.txt\",\"r\") as file:\n",
    "    content = file.read()\n",
    "    print (content)"
   ]
  },
  {
   "cell_type": "markdown",
   "id": "9e1ccc72",
   "metadata": {},
   "source": [
    "#### \"with\" komutuyla dosyaları file.close() yaparak dosya kapatmaya gerek yoktur. Dosya açmanın süresi with ' in içindeki kod blokları bitene kadardır."
   ]
  },
  {
   "cell_type": "code",
   "execution_count": 19,
   "id": "5c2191d5",
   "metadata": {},
   "outputs": [
    {
     "name": "stdout",
     "output_type": "stream",
     "text": [
      "0\n"
     ]
    }
   ],
   "source": [
    "#print(content)'ten sonra;\n",
    "print(file.tell())\n",
    "#yaparsak bize cursor'ün hangi adreste olduğunu gösterir."
   ]
  },
  {
   "cell_type": "code",
   "execution_count": 20,
   "id": "c6a79511",
   "metadata": {},
   "outputs": [
    {
     "data": {
      "text/plain": [
       "0"
      ]
     },
     "execution_count": 20,
     "metadata": {},
     "output_type": "execute_result"
    }
   ],
   "source": [
    "file.seek(0) # Seek metoduyla ekrana parantez içindeki değerdeki konumdan sonraki değerler yazar."
   ]
  },
  {
   "cell_type": "markdown",
   "id": "af8af4a1",
   "metadata": {},
   "source": [
    "## Python'da Dosyada Güncelleme Yapma"
   ]
  },
  {
   "cell_type": "code",
   "execution_count": 21,
   "id": "30114668",
   "metadata": {},
   "outputs": [],
   "source": [
    "with open(\"newfile.txt\", \"r+\", encoding = \"utf-8\") as file:\n",
    "    file.write(\"deneme\") #bu kod bloğunu yazdığımız zaman 0. indeks ten başayarak parantez içindeki yazılala içeriği günceller."
   ]
  },
  {
   "cell_type": "code",
   "execution_count": 24,
   "id": "8988e0b1",
   "metadata": {},
   "outputs": [
    {
     "data": {
      "text/plain": [
       "20"
      ]
     },
     "execution_count": 24,
     "metadata": {},
     "output_type": "execute_result"
    }
   ],
   "source": [
    "#file.write(\"deneme\")'den önce \n",
    "file.seek(20) #metoduyla istediğimiz yere yazdırırız."
   ]
  },
  {
   "cell_type": "code",
   "execution_count": 29,
   "id": "5fcafe6f",
   "metadata": {},
   "outputs": [],
   "source": [
    "# Dosya içerisine \"append\" metodu ile güncelleme yapabiliriz. Fakata \"append\" ile yaptığımız ekleme içeriğin en sonundan başlar.\n",
    "#with open(\"newfile.txt\", \"a\") as file:\n",
    "    "
   ]
  },
  {
   "cell_type": "code",
   "execution_count": 30,
   "id": "3c04b3d8",
   "metadata": {},
   "outputs": [
    {
     "name": "stdout",
     "output_type": "stream",
     "text": [
      "['Sena Düzgün']\n"
     ]
    }
   ],
   "source": [
    "# Sayfa ortasına bilgi eklemek istersek ;\n",
    "with open(\"newfile.txt\", \"r+\") as file:\n",
    "    list = file.readlines()\n",
    "    list.insert(1,\"Sena Düzgün\")\n",
    "    print(list)"
   ]
  },
  {
   "cell_type": "code",
   "execution_count": 33,
   "id": "a6c40939",
   "metadata": {},
   "outputs": [],
   "source": [
    "# Bir liste yazmak istersek;\n",
    "file.writelines(list) # komutunu girersek dosyanın üzerine liste ekleriz."
   ]
  },
  {
   "cell_type": "code",
   "execution_count": null,
   "id": "1c5fa131",
   "metadata": {},
   "outputs": [],
   "source": []
  }
 ],
 "metadata": {
  "kernelspec": {
   "display_name": "Python 3",
   "language": "python",
   "name": "python3"
  },
  "language_info": {
   "codemirror_mode": {
    "name": "ipython",
    "version": 3
   },
   "file_extension": ".py",
   "mimetype": "text/x-python",
   "name": "python",
   "nbconvert_exporter": "python",
   "pygments_lexer": "ipython3",
   "version": "3.8.8"
  }
 },
 "nbformat": 4,
 "nbformat_minor": 5
}
