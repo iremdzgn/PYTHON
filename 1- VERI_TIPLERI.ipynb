{
 "cells": [
  {
   "cell_type": "markdown",
   "id": "7595850e",
   "metadata": {},
   "source": [
    "# DEĞİŞKENLER"
   ]
  },
  {
   "cell_type": "markdown",
   "id": "5368e698",
   "metadata": {},
   "source": [
    "### Değişken: \n",
    "Belli bir verinin değerini saklamak için kullanılan yapılardır."
   ]
  },
  {
   "cell_type": "markdown",
   "id": "0cc3f60b",
   "metadata": {},
   "source": [
    "### Sayılar:\n",
    "İnteger: Tam sayıyı ifade eder.\n"
   ]
  },
  {
   "cell_type": "code",
   "execution_count": 182,
   "id": "4a5c5bae",
   "metadata": {},
   "outputs": [],
   "source": [
    "X= 3,5,9,6,11,25,225,45"
   ]
  },
  {
   "cell_type": "markdown",
   "id": "dc5b1d8f",
   "metadata": {},
   "source": [
    "Float: Ondalıklı sayılardır."
   ]
  },
  {
   "cell_type": "code",
   "execution_count": 183,
   "id": "8dd6c5c1",
   "metadata": {},
   "outputs": [],
   "source": [
    "Y = 4.5,11.9,2.0"
   ]
  },
  {
   "cell_type": "markdown",
   "id": "80767753",
   "metadata": {},
   "source": [
    "String : İçeriği text olan değişkendir."
   ]
  },
  {
   "cell_type": "code",
   "execution_count": 184,
   "id": "cca11128",
   "metadata": {},
   "outputs": [],
   "source": [
    "Z = 'a','b','Hello world','abc'"
   ]
  },
  {
   "cell_type": "markdown",
   "id": "d67f7621",
   "metadata": {},
   "source": [
    "# Listeler"
   ]
  },
  {
   "cell_type": "markdown",
   "id": "fe534ee3",
   "metadata": {},
   "source": [
    "\n",
    "###### Koleksiyonlar birden fazla veriyi aynı yapı içerisinde tutmamızı sağlayan yapılardır."
   ]
  },
  {
   "cell_type": "markdown",
   "id": "8a942720",
   "metadata": {},
   "source": [
    "###### Liste elemanlarında herbiri farklı veri tipinde olabilir. Homojen yapıda olmayabilir. ( set, tuple,dictionary)"
   ]
  },
  {
   "cell_type": "code",
   "execution_count": 185,
   "id": "4eb05bf6",
   "metadata": {},
   "outputs": [],
   "source": [
    "list = [4,5.6,'a']"
   ]
  },
  {
   "cell_type": "markdown",
   "id": "44cb46d0",
   "metadata": {},
   "source": [
    "###### Liste içinde liste tanımlayabiliriz."
   ]
  },
  {
   "cell_type": "code",
   "execution_count": 186,
   "id": "836c3772",
   "metadata": {},
   "outputs": [],
   "source": [
    "list1 = [4,5.9,'b',[4,8.5,'a',[2,'s']]]"
   ]
  },
  {
   "cell_type": "markdown",
   "id": "1be5129a",
   "metadata": {},
   "source": [
    "### Liste Metodları"
   ]
  },
  {
   "cell_type": "markdown",
   "id": "b4cf1f60",
   "metadata": {},
   "source": [
    "##### Len() Metodu ile liste içindeki eleman sayısını öğrenilir."
   ]
  },
  {
   "cell_type": "code",
   "execution_count": 187,
   "id": "6420441a",
   "metadata": {},
   "outputs": [
    {
     "data": {
      "text/plain": [
       "3"
      ]
     },
     "execution_count": 187,
     "metadata": {},
     "output_type": "execute_result"
    }
   ],
   "source": [
    "len(list)"
   ]
  },
  {
   "cell_type": "code",
   "execution_count": null,
   "id": "da227b25",
   "metadata": {},
   "outputs": [],
   "source": []
  },
  {
   "cell_type": "code",
   "execution_count": 188,
   "id": "596c73a8",
   "metadata": {},
   "outputs": [
    {
     "data": {
      "text/plain": [
       "4"
      ]
     },
     "execution_count": 188,
     "metadata": {},
     "output_type": "execute_result"
    }
   ],
   "source": [
    "len(list1)"
   ]
  },
  {
   "cell_type": "code",
   "execution_count": 189,
   "id": "fbfa7dbb",
   "metadata": {},
   "outputs": [
    {
     "data": {
      "text/plain": [
       "[4, 5.9, 'b', [4, 8.5, 'a', [2, 's']]]"
      ]
     },
     "execution_count": 189,
     "metadata": {},
     "output_type": "execute_result"
    }
   ],
   "source": [
    "list1"
   ]
  },
  {
   "cell_type": "markdown",
   "id": "44ca0c25",
   "metadata": {},
   "source": [
    "##### Del() Metodu ile listeden eleman silinir."
   ]
  },
  {
   "cell_type": "code",
   "execution_count": 190,
   "id": "d74dcfd9",
   "metadata": {},
   "outputs": [],
   "source": [
    "del(list1[3])"
   ]
  },
  {
   "cell_type": "code",
   "execution_count": 191,
   "id": "4d8874a7",
   "metadata": {},
   "outputs": [
    {
     "data": {
      "text/plain": [
       "[4, 5.9, 'b']"
      ]
     },
     "execution_count": 191,
     "metadata": {},
     "output_type": "execute_result"
    }
   ],
   "source": [
    "list1"
   ]
  },
  {
   "cell_type": "markdown",
   "id": "899e5817",
   "metadata": {},
   "source": [
    "##### Append() Metodu ile liste üzerine eleman eklenir."
   ]
  },
  {
   "cell_type": "code",
   "execution_count": 192,
   "id": "1d710787",
   "metadata": {},
   "outputs": [
    {
     "data": {
      "text/plain": [
       "[4, 5.6, 'a', ('e', 5, 9, 5.7, 'acb')]"
      ]
     },
     "execution_count": 192,
     "metadata": {},
     "output_type": "execute_result"
    }
   ],
   "source": [
    "list.append(('e',5,9,5.7,'acb'));\n",
    "list\n"
   ]
  },
  {
   "cell_type": "markdown",
   "id": "4703841a",
   "metadata": {},
   "source": [
    "##### Pop() Metodu liste üzerindelki son veriyi atar."
   ]
  },
  {
   "cell_type": "code",
   "execution_count": 193,
   "id": "503381b8",
   "metadata": {},
   "outputs": [
    {
     "data": {
      "text/plain": [
       "[4, 5.6, 'a']"
      ]
     },
     "execution_count": 193,
     "metadata": {},
     "output_type": "execute_result"
    }
   ],
   "source": [
    "list.pop()\n",
    "list"
   ]
  },
  {
   "cell_type": "markdown",
   "id": "cc653aec",
   "metadata": {},
   "source": [
    "##### Remove() metodu liste üzerinden istenilen elemanı çıkarır."
   ]
  },
  {
   "cell_type": "code",
   "execution_count": 194,
   "id": "4d982c6b",
   "metadata": {},
   "outputs": [
    {
     "data": {
      "text/plain": [
       "[5.9, 'b']"
      ]
     },
     "execution_count": 194,
     "metadata": {},
     "output_type": "execute_result"
    }
   ],
   "source": [
    "list1.remove(4)\n",
    "list1"
   ]
  },
  {
   "cell_type": "markdown",
   "id": "f592355d",
   "metadata": {},
   "source": [
    "##### Count() metodu seçilen elemandan liste içinde kaç tane olduğunu yazdırır."
   ]
  },
  {
   "cell_type": "code",
   "execution_count": 195,
   "id": "c668d1e0",
   "metadata": {},
   "outputs": [
    {
     "data": {
      "text/plain": [
       "1"
      ]
     },
     "execution_count": 195,
     "metadata": {},
     "output_type": "execute_result"
    }
   ],
   "source": [
    "list.count('a')"
   ]
  },
  {
   "cell_type": "markdown",
   "id": "11055dde",
   "metadata": {},
   "source": [
    "##### Reverse() Metodu ile liste üzerindeki elemanları sondan başa doğru sıralar."
   ]
  },
  {
   "cell_type": "code",
   "execution_count": 196,
   "id": "cc6eaaf9",
   "metadata": {},
   "outputs": [
    {
     "data": {
      "text/plain": [
       "[8.7, 2.5, 1, 20, 11, 3, 9, 8]"
      ]
     },
     "execution_count": 196,
     "metadata": {},
     "output_type": "execute_result"
    }
   ],
   "source": [
    "l = [8,9,3,11,20,1,2.5,8.7]\n",
    "l.reverse()\n",
    "l"
   ]
  },
  {
   "cell_type": "markdown",
   "id": "abc1ee04",
   "metadata": {},
   "source": [
    "##### Sort() Metodu liste üzerindeki elemanları küçükten büyüğe sıralar."
   ]
  },
  {
   "cell_type": "code",
   "execution_count": 197,
   "id": "e05951fe",
   "metadata": {},
   "outputs": [
    {
     "data": {
      "text/plain": [
       "[1, 2.5, 3, 8, 8.7, 9, 11, 20]"
      ]
     },
     "execution_count": 197,
     "metadata": {},
     "output_type": "execute_result"
    }
   ],
   "source": [
    "l.sort()\n",
    "l"
   ]
  },
  {
   "cell_type": "markdown",
   "id": "38866b70",
   "metadata": {},
   "source": [
    "##### Clear() Metodu ile liste içindeki tüm elemanları sileriz."
   ]
  },
  {
   "cell_type": "code",
   "execution_count": 198,
   "id": "d008dd76",
   "metadata": {},
   "outputs": [
    {
     "data": {
      "text/plain": [
       "[]"
      ]
     },
     "execution_count": 198,
     "metadata": {},
     "output_type": "execute_result"
    }
   ],
   "source": [
    "l.clear()\n",
    "l"
   ]
  },
  {
   "cell_type": "markdown",
   "id": "bdcde876",
   "metadata": {},
   "source": [
    "# Tuple"
   ]
  },
  {
   "cell_type": "markdown",
   "id": "71effa0c",
   "metadata": {},
   "source": [
    "##### Tuple listeye çok benzer yapıdadır.Fakat kullanım yerinde farklılık gösterir.Tuple'da elemanlar atandıktan sonra tek bir eleman üzerinde değişiklik yapılmaz.Tuple liste elemanları parantez ile oluşturulur."
   ]
  },
  {
   "cell_type": "code",
   "execution_count": 203,
   "id": "43b640ce",
   "metadata": {},
   "outputs": [],
   "source": [
    "tuple = (1,5,5.5,'a',True)"
   ]
  },
  {
   "cell_type": "markdown",
   "id": "7b1a0624",
   "metadata": {},
   "source": [
    "# Dictionary"
   ]
  },
  {
   "cell_type": "markdown",
   "id": "bd8112ab",
   "metadata": {},
   "source": [
    "##### Key-Value şeklinde çalışır."
   ]
  },
  {
   "cell_type": "code",
   "execution_count": 202,
   "id": "d8492990",
   "metadata": {},
   "outputs": [
    {
     "data": {
      "text/plain": [
       "{'anahtar kelime': 'value'}"
      ]
     },
     "execution_count": 202,
     "metadata": {},
     "output_type": "execute_result"
    }
   ],
   "source": [
    "dict = {'anahtar kelime':'value'}\n",
    "dict"
   ]
  },
  {
   "cell_type": "markdown",
   "id": "feda7dd8",
   "metadata": {},
   "source": [
    "# Sets"
   ]
  },
  {
   "cell_type": "markdown",
   "id": "4c032185",
   "metadata": {},
   "source": [
    "##### Set listeleri sıralanamaz ve indekslenemez.\n",
    "##### Set içersindeki elemanlar tekrarlanamaz.\n",
    "##### Set oluşturmak için süslü parantez kullanılır."
   ]
  },
  {
   "cell_type": "code",
   "execution_count": 6,
   "id": "eb57faa7",
   "metadata": {},
   "outputs": [],
   "source": [
    "fruits = {'orange','strawberry','cherry'}"
   ]
  },
  {
   "cell_type": "markdown",
   "id": "c191598f",
   "metadata": {},
   "source": [
    "##### Add() metodu ile listeye bir eleman eklenebilir."
   ]
  },
  {
   "cell_type": "code",
   "execution_count": 7,
   "id": "3717c959",
   "metadata": {},
   "outputs": [
    {
     "data": {
      "text/plain": [
       "{'apple', 'cherry', 'orange', 'strawberry'}"
      ]
     },
     "execution_count": 7,
     "metadata": {},
     "output_type": "execute_result"
    }
   ],
   "source": [
    "fruits.add('apple')\n",
    "fruits"
   ]
  },
  {
   "cell_type": "markdown",
   "id": "a50fe910",
   "metadata": {},
   "source": [
    "##### Update() metodu ile liste ekleyebiliriz."
   ]
  },
  {
   "cell_type": "code",
   "execution_count": 8,
   "id": "f3545ab7",
   "metadata": {},
   "outputs": [
    {
     "data": {
      "text/plain": [
       "{'apple', 'cherry', 'grape', 'mango', 'orange', 'strawberry'}"
      ]
     },
     "execution_count": 8,
     "metadata": {},
     "output_type": "execute_result"
    }
   ],
   "source": [
    "fruits.update(['mango','grape'])\n",
    "fruits"
   ]
  },
  {
   "cell_type": "markdown",
   "id": "dd20ee7d",
   "metadata": {},
   "source": [
    "##### Remove() ve Dicard() metodları ile istenilen öge silinebilir."
   ]
  },
  {
   "cell_type": "code",
   "execution_count": 9,
   "id": "5a580215",
   "metadata": {},
   "outputs": [
    {
     "data": {
      "text/plain": [
       "{'apple', 'cherry', 'grape', 'orange', 'strawberry'}"
      ]
     },
     "execution_count": 9,
     "metadata": {},
     "output_type": "execute_result"
    }
   ],
   "source": [
    "fruits.remove('mango')\n",
    "fruits"
   ]
  },
  {
   "cell_type": "code",
   "execution_count": 11,
   "id": "3b81c023",
   "metadata": {},
   "outputs": [
    {
     "data": {
      "text/plain": [
       "{'apple', 'cherry', 'orange', 'strawberry'}"
      ]
     },
     "execution_count": 11,
     "metadata": {},
     "output_type": "execute_result"
    }
   ],
   "source": [
    "fruits.discard('grape')\n",
    "fruits"
   ]
  },
  {
   "cell_type": "markdown",
   "id": "8c8752a9",
   "metadata": {},
   "source": [
    "##### Pop() metodu ile listeden herhangi bir öge silinebilir."
   ]
  },
  {
   "cell_type": "code",
   "execution_count": 12,
   "id": "e1f9157c",
   "metadata": {},
   "outputs": [
    {
     "data": {
      "text/plain": [
       "{'apple', 'cherry', 'orange'}"
      ]
     },
     "execution_count": 12,
     "metadata": {},
     "output_type": "execute_result"
    }
   ],
   "source": [
    "fruits.pop()\n",
    "fruits"
   ]
  }
 ],
 "metadata": {
  "kernelspec": {
   "display_name": "Python 3",
   "language": "python",
   "name": "python3"
  },
  "language_info": {
   "codemirror_mode": {
    "name": "ipython",
    "version": 3
   },
   "file_extension": ".py",
   "mimetype": "text/x-python",
   "name": "python",
   "nbconvert_exporter": "python",
   "pygments_lexer": "ipython3",
   "version": "3.8.8"
  }
 },
 "nbformat": 4,
 "nbformat_minor": 5
}
